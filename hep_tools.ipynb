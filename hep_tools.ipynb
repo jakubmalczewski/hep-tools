{
 "cells": [
  {
   "cell_type": "code",
   "execution_count": 1,
   "id": "497f1aa3",
   "metadata": {},
   "outputs": [],
   "source": [
    "import uproot as up\n",
    "import pandas as pd\n",
    "import numpy as np\n",
    "import awkward as ak\n",
    "from matplotlib import pyplot as plt\n",
    "import mplhep as hep\n",
    "import tempfile"
   ]
  },
  {
   "cell_type": "code",
   "execution_count": 2,
   "id": "5fd344a3",
   "metadata": {},
   "outputs": [],
   "source": [
    "import ROOT\n",
    "# if the ROOT import fails, you can still run other sections that do not use it"
   ]
  },
  {
   "cell_type": "markdown",
   "id": "09c74b35",
   "metadata": {},
   "source": [
    "# Tutorail Scope \n",
    "This tutorial aims to introduce the fundamental data operations across various frameworks. We will explore: **Pandas**, **ROOT**, ROOT **RDataFrame**, and the **uproot + Awkward** toolkit. The examples provided will cover building a data structure, filtering datasets, calculating basic statistics, as well as saving and reading from files. "
   ]
  },
  {
   "cell_type": "markdown",
   "id": "e6c94018",
   "metadata": {},
   "source": [
    "# Data preparation\n",
    "\n",
    "Let's generate some toy data with different types. We are starting with 10000 rows. For each data type (bool, float32, float64, str) we are creating 10 columns with random values. "
   ]
  },
  {
   "cell_type": "code",
   "execution_count": 3,
   "id": "62ba2952",
   "metadata": {},
   "outputs": [
    {
     "data": {
      "text/plain": [
       "(np.True_,\n",
       " np.float64(0.21124027427979897),\n",
       " np.float32(0.91410756),\n",
       " np.str_('ccc'))"
      ]
     },
     "execution_count": 3,
     "metadata": {},
     "output_type": "execute_result"
    }
   ],
   "source": [
    "n_rows = 10000\n",
    "data_b = np.random.choice([False, True],size=(n_rows,10))\n",
    "data_f = np.random.random(size=(n_rows,10)).astype(dtype=np.float32)\n",
    "data_d = np.random.random(size=(n_rows,10)).astype(dtype=np.float64)\n",
    "data_s = np.random.choice([\"aaa\",\"bbb\",\"ccc\"],size=(n_rows,10))\n",
    "\n",
    "data_b[0,0], data_d[0,0], data_f[0,0], data_s[0,0]"
   ]
  },
  {
   "cell_type": "code",
   "execution_count": 4,
   "id": "66f96709",
   "metadata": {},
   "outputs": [],
   "source": [
    "# All columns in our table will be named after the type: \n",
    "# B0, B1, B2, ... - bool\n",
    "# F0, F1, F1, ... - float\n",
    "# D0, D1, D1, ... - double\n",
    "# S0, S1, S1, ... - str\n",
    " \n",
    "column_names_b = [f\"B{i}\" for i in range(10)]\n",
    "column_names_f = [f\"F{i}\" for i in range(10)]\n",
    "column_names_d = [f\"D{i}\" for i in range(10)]\n",
    "column_names_s = [f\"S{i}\" for i in range(10)]\n",
    "column_names = column_names_b + column_names_f + column_names_d + column_names_s "
   ]
  },
  {
   "cell_type": "markdown",
   "id": "f5cd8ea4",
   "metadata": {},
   "source": [
    "# Pandas\n",
    "Pandas is a powerful tool that has gained recognition outside of the data science community. Built on top of NumPy, which is partially written in C, it requires reading larger files in chunks due to its in-memory data storage approach. \n",
    "\n",
    "The main idea behind its core interface, the DataFrame, is vectorization. The best way to use Pandas is by applying operations to entire columns rather than processing row by row. "
   ]
  },
  {
   "cell_type": "markdown",
   "id": "a07d2fa0",
   "metadata": {},
   "source": [
    "### Create Data Frame"
   ]
  },
  {
   "cell_type": "code",
   "execution_count": 5,
   "id": "29d8debf",
   "metadata": {},
   "outputs": [
    {
     "data": {
      "text/html": [
       "<div>\n",
       "<style scoped>\n",
       "    .dataframe tbody tr th:only-of-type {\n",
       "        vertical-align: middle;\n",
       "    }\n",
       "\n",
       "    .dataframe tbody tr th {\n",
       "        vertical-align: top;\n",
       "    }\n",
       "\n",
       "    .dataframe thead th {\n",
       "        text-align: right;\n",
       "    }\n",
       "</style>\n",
       "<table border=\"1\" class=\"dataframe\">\n",
       "  <thead>\n",
       "    <tr style=\"text-align: right;\">\n",
       "      <th></th>\n",
       "      <th>B0</th>\n",
       "      <th>F0</th>\n",
       "      <th>D0</th>\n",
       "      <th>S0</th>\n",
       "    </tr>\n",
       "  </thead>\n",
       "  <tbody>\n",
       "    <tr>\n",
       "      <th>0</th>\n",
       "      <td>True</td>\n",
       "      <td>0.914108</td>\n",
       "      <td>0.211240</td>\n",
       "      <td>ccc</td>\n",
       "    </tr>\n",
       "    <tr>\n",
       "      <th>1</th>\n",
       "      <td>True</td>\n",
       "      <td>0.381422</td>\n",
       "      <td>0.003173</td>\n",
       "      <td>bbb</td>\n",
       "    </tr>\n",
       "    <tr>\n",
       "      <th>2</th>\n",
       "      <td>True</td>\n",
       "      <td>0.896872</td>\n",
       "      <td>0.103234</td>\n",
       "      <td>ccc</td>\n",
       "    </tr>\n",
       "    <tr>\n",
       "      <th>3</th>\n",
       "      <td>True</td>\n",
       "      <td>0.492902</td>\n",
       "      <td>0.757330</td>\n",
       "      <td>aaa</td>\n",
       "    </tr>\n",
       "    <tr>\n",
       "      <th>4</th>\n",
       "      <td>True</td>\n",
       "      <td>0.128116</td>\n",
       "      <td>0.390022</td>\n",
       "      <td>bbb</td>\n",
       "    </tr>\n",
       "  </tbody>\n",
       "</table>\n",
       "</div>"
      ],
      "text/plain": [
       "     B0        F0        D0   S0\n",
       "0  True  0.914108  0.211240  ccc\n",
       "1  True  0.381422  0.003173  bbb\n",
       "2  True  0.896872  0.103234  ccc\n",
       "3  True  0.492902  0.757330  aaa\n",
       "4  True  0.128116  0.390022  bbb"
      ]
     },
     "execution_count": 5,
     "metadata": {},
     "output_type": "execute_result"
    }
   ],
   "source": [
    "df = pd.DataFrame()\n",
    "df[column_names_b] = data_b\n",
    "df[column_names_f] = data_f\n",
    "df[column_names_d] = data_d\n",
    "df[column_names_s] = data_s\n",
    "df[[\"B0\", \"F0\", \"D0\", \"S0\"]].head()"
   ]
  },
  {
   "cell_type": "markdown",
   "id": "41c63d37",
   "metadata": {},
   "source": [
    "### Fliter data"
   ]
  },
  {
   "cell_type": "code",
   "execution_count": 6,
   "id": "ff377b1d",
   "metadata": {},
   "outputs": [
    {
     "name": "stdout",
     "output_type": "stream",
     "text": [
      "Before selection. Number of rows =  10000\n",
      "After selection. Number of rows =  1938\n"
     ]
    }
   ],
   "source": [
    "print(\"Before selection. Number of rows = \", len(df))\n",
    "df = df[df[\"B0\"] + df[\"B1\"]]\n",
    "df = df[(df[\"F0\"] > 0.1) & (df[\"F0\"] < 0.9)]\n",
    "df = df[np.abs(df[\"D0\"] - df[\"D1\"]) >= 0.02]\n",
    "df = df[df[\"S0\"] == \"aaa\"]\n",
    "print(\"After selection. Number of rows = \", len(df))"
   ]
  },
  {
   "cell_type": "markdown",
   "id": "d208cf52",
   "metadata": {},
   "source": [
    "### Add new columns"
   ]
  },
  {
   "cell_type": "code",
   "execution_count": 7,
   "id": "959fac05",
   "metadata": {},
   "outputs": [
    {
     "data": {
      "text/html": [
       "<div>\n",
       "<style scoped>\n",
       "    .dataframe tbody tr th:only-of-type {\n",
       "        vertical-align: middle;\n",
       "    }\n",
       "\n",
       "    .dataframe tbody tr th {\n",
       "        vertical-align: top;\n",
       "    }\n",
       "\n",
       "    .dataframe thead th {\n",
       "        text-align: right;\n",
       "    }\n",
       "</style>\n",
       "<table border=\"1\" class=\"dataframe\">\n",
       "  <thead>\n",
       "    <tr style=\"text-align: right;\">\n",
       "      <th></th>\n",
       "      <th>D11</th>\n",
       "      <th>D12</th>\n",
       "      <th>D13</th>\n",
       "      <th>S11</th>\n",
       "      <th>S12</th>\n",
       "    </tr>\n",
       "  </thead>\n",
       "  <tbody>\n",
       "    <tr>\n",
       "      <th>3</th>\n",
       "      <td>0.103905</td>\n",
       "      <td>0.022800</td>\n",
       "      <td>0.022800</td>\n",
       "      <td>Bbb</td>\n",
       "      <td>bbbaaa</td>\n",
       "    </tr>\n",
       "    <tr>\n",
       "      <th>5</th>\n",
       "      <td>0.617874</td>\n",
       "      <td>0.475685</td>\n",
       "      <td>0.475685</td>\n",
       "      <td>Ccc</td>\n",
       "      <td>cccaaa</td>\n",
       "    </tr>\n",
       "    <tr>\n",
       "      <th>6</th>\n",
       "      <td>0.281837</td>\n",
       "      <td>0.000000</td>\n",
       "      <td>0.475534</td>\n",
       "      <td>Bbb</td>\n",
       "      <td>bbbccc</td>\n",
       "    </tr>\n",
       "    <tr>\n",
       "      <th>7</th>\n",
       "      <td>0.047393</td>\n",
       "      <td>0.755705</td>\n",
       "      <td>0.755705</td>\n",
       "      <td>Ccc</td>\n",
       "      <td>cccccc</td>\n",
       "    </tr>\n",
       "    <tr>\n",
       "      <th>11</th>\n",
       "      <td>-0.685805</td>\n",
       "      <td>0.540482</td>\n",
       "      <td>0.540482</td>\n",
       "      <td>Ccc</td>\n",
       "      <td>cccaaa</td>\n",
       "    </tr>\n",
       "  </tbody>\n",
       "</table>\n",
       "</div>"
      ],
      "text/plain": [
       "         D11       D12       D13  S11     S12\n",
       "3   0.103905  0.022800  0.022800  Bbb  bbbaaa\n",
       "5   0.617874  0.475685  0.475685  Ccc  cccaaa\n",
       "6   0.281837  0.000000  0.475534  Bbb  bbbccc\n",
       "7   0.047393  0.755705  0.755705  Ccc  cccccc\n",
       "11 -0.685805  0.540482  0.540482  Ccc  cccaaa"
      ]
     },
     "execution_count": 7,
     "metadata": {},
     "output_type": "execute_result"
    }
   ],
   "source": [
    "df[\"D11\"] = df[\"D2\"] - df[\"D3\"]\n",
    "df[\"D12\"] = df[\"D4\"] * df[\"B0\"].astype(float) # if B0, make D12 = D4, else D12 = 0\n",
    "df[\"D13\"] = df[\"D4\"] * df[\"B0\"].astype(float) + df[\"D5\"] * (~df[\"B0\"]).astype(float) # if B0, make D12 = D4, else D12 = D5 \n",
    "df[\"S11\"] = df[\"S1\"].str.capitalize()\n",
    "df[\"S12\"] = df[\"S1\"] + df[\"S2\"]\n",
    "df[[\"D11\", \"D12\", \"D13\", \"S11\", \"S12\"]].head()"
   ]
  },
  {
   "cell_type": "markdown",
   "id": "b449308d",
   "metadata": {},
   "source": [
    "### Calculate stats"
   ]
  },
  {
   "cell_type": "code",
   "execution_count": 8,
   "id": "2daaa9d2",
   "metadata": {},
   "outputs": [
    {
     "name": "stdout",
     "output_type": "stream",
     "text": [
      "F1 mean:  0.5035985\n",
      "F1 max:  0.99945223\n",
      "F1 min:  0.00013765624\n",
      "Count B0 == True:  1272\n"
     ]
    }
   ],
   "source": [
    "print(\"F1 mean: \", df[\"F1\"].mean())\n",
    "print(\"F1 max: \", df[\"F1\"].max())\n",
    "print(\"F1 min: \", df[\"F1\"].min())\n",
    "print(\"Count B0 == True: \",df[\"B0\"].sum())"
   ]
  },
  {
   "cell_type": "markdown",
   "id": "93988c46",
   "metadata": {},
   "source": [
    "### Save / read"
   ]
  },
  {
   "cell_type": "code",
   "execution_count": 9,
   "id": "922418a1",
   "metadata": {},
   "outputs": [
    {
     "data": {
      "text/html": [
       "<div>\n",
       "<style scoped>\n",
       "    .dataframe tbody tr th:only-of-type {\n",
       "        vertical-align: middle;\n",
       "    }\n",
       "\n",
       "    .dataframe tbody tr th {\n",
       "        vertical-align: top;\n",
       "    }\n",
       "\n",
       "    .dataframe thead th {\n",
       "        text-align: right;\n",
       "    }\n",
       "</style>\n",
       "<table border=\"1\" class=\"dataframe\">\n",
       "  <thead>\n",
       "    <tr style=\"text-align: right;\">\n",
       "      <th></th>\n",
       "      <th>B0</th>\n",
       "      <th>B1</th>\n",
       "      <th>B2</th>\n",
       "      <th>B3</th>\n",
       "      <th>B4</th>\n",
       "      <th>B5</th>\n",
       "      <th>B6</th>\n",
       "      <th>B7</th>\n",
       "      <th>B8</th>\n",
       "      <th>B9</th>\n",
       "      <th>...</th>\n",
       "      <th>S5</th>\n",
       "      <th>S6</th>\n",
       "      <th>S7</th>\n",
       "      <th>S8</th>\n",
       "      <th>S9</th>\n",
       "      <th>D11</th>\n",
       "      <th>D12</th>\n",
       "      <th>D13</th>\n",
       "      <th>S11</th>\n",
       "      <th>S12</th>\n",
       "    </tr>\n",
       "  </thead>\n",
       "  <tbody>\n",
       "    <tr>\n",
       "      <th>3</th>\n",
       "      <td>True</td>\n",
       "      <td>True</td>\n",
       "      <td>True</td>\n",
       "      <td>False</td>\n",
       "      <td>True</td>\n",
       "      <td>False</td>\n",
       "      <td>True</td>\n",
       "      <td>False</td>\n",
       "      <td>True</td>\n",
       "      <td>False</td>\n",
       "      <td>...</td>\n",
       "      <td>bbb</td>\n",
       "      <td>aaa</td>\n",
       "      <td>aaa</td>\n",
       "      <td>aaa</td>\n",
       "      <td>ccc</td>\n",
       "      <td>0.103905</td>\n",
       "      <td>0.022800</td>\n",
       "      <td>0.022800</td>\n",
       "      <td>Bbb</td>\n",
       "      <td>bbbaaa</td>\n",
       "    </tr>\n",
       "    <tr>\n",
       "      <th>5</th>\n",
       "      <td>True</td>\n",
       "      <td>True</td>\n",
       "      <td>True</td>\n",
       "      <td>False</td>\n",
       "      <td>False</td>\n",
       "      <td>True</td>\n",
       "      <td>True</td>\n",
       "      <td>False</td>\n",
       "      <td>True</td>\n",
       "      <td>False</td>\n",
       "      <td>...</td>\n",
       "      <td>ccc</td>\n",
       "      <td>bbb</td>\n",
       "      <td>aaa</td>\n",
       "      <td>aaa</td>\n",
       "      <td>bbb</td>\n",
       "      <td>0.617874</td>\n",
       "      <td>0.475685</td>\n",
       "      <td>0.475685</td>\n",
       "      <td>Ccc</td>\n",
       "      <td>cccaaa</td>\n",
       "    </tr>\n",
       "    <tr>\n",
       "      <th>6</th>\n",
       "      <td>False</td>\n",
       "      <td>True</td>\n",
       "      <td>True</td>\n",
       "      <td>False</td>\n",
       "      <td>True</td>\n",
       "      <td>True</td>\n",
       "      <td>False</td>\n",
       "      <td>False</td>\n",
       "      <td>False</td>\n",
       "      <td>False</td>\n",
       "      <td>...</td>\n",
       "      <td>ccc</td>\n",
       "      <td>ccc</td>\n",
       "      <td>bbb</td>\n",
       "      <td>bbb</td>\n",
       "      <td>aaa</td>\n",
       "      <td>0.281837</td>\n",
       "      <td>0.000000</td>\n",
       "      <td>0.475534</td>\n",
       "      <td>Bbb</td>\n",
       "      <td>bbbccc</td>\n",
       "    </tr>\n",
       "    <tr>\n",
       "      <th>7</th>\n",
       "      <td>True</td>\n",
       "      <td>True</td>\n",
       "      <td>True</td>\n",
       "      <td>False</td>\n",
       "      <td>False</td>\n",
       "      <td>False</td>\n",
       "      <td>False</td>\n",
       "      <td>False</td>\n",
       "      <td>True</td>\n",
       "      <td>True</td>\n",
       "      <td>...</td>\n",
       "      <td>bbb</td>\n",
       "      <td>aaa</td>\n",
       "      <td>bbb</td>\n",
       "      <td>ccc</td>\n",
       "      <td>ccc</td>\n",
       "      <td>0.047393</td>\n",
       "      <td>0.755705</td>\n",
       "      <td>0.755705</td>\n",
       "      <td>Ccc</td>\n",
       "      <td>cccccc</td>\n",
       "    </tr>\n",
       "    <tr>\n",
       "      <th>11</th>\n",
       "      <td>True</td>\n",
       "      <td>True</td>\n",
       "      <td>True</td>\n",
       "      <td>True</td>\n",
       "      <td>False</td>\n",
       "      <td>True</td>\n",
       "      <td>False</td>\n",
       "      <td>True</td>\n",
       "      <td>False</td>\n",
       "      <td>False</td>\n",
       "      <td>...</td>\n",
       "      <td>ccc</td>\n",
       "      <td>ccc</td>\n",
       "      <td>ccc</td>\n",
       "      <td>aaa</td>\n",
       "      <td>aaa</td>\n",
       "      <td>-0.685805</td>\n",
       "      <td>0.540482</td>\n",
       "      <td>0.540482</td>\n",
       "      <td>Ccc</td>\n",
       "      <td>cccaaa</td>\n",
       "    </tr>\n",
       "  </tbody>\n",
       "</table>\n",
       "<p>5 rows × 45 columns</p>\n",
       "</div>"
      ],
      "text/plain": [
       "       B0    B1    B2     B3     B4     B5     B6     B7     B8     B9  ...  \\\n",
       "3    True  True  True  False   True  False   True  False   True  False  ...   \n",
       "5    True  True  True  False  False   True   True  False   True  False  ...   \n",
       "6   False  True  True  False   True   True  False  False  False  False  ...   \n",
       "7    True  True  True  False  False  False  False  False   True   True  ...   \n",
       "11   True  True  True   True  False   True  False   True  False  False  ...   \n",
       "\n",
       "     S5   S6   S7   S8   S9       D11       D12       D13  S11     S12  \n",
       "3   bbb  aaa  aaa  aaa  ccc  0.103905  0.022800  0.022800  Bbb  bbbaaa  \n",
       "5   ccc  bbb  aaa  aaa  bbb  0.617874  0.475685  0.475685  Ccc  cccaaa  \n",
       "6   ccc  ccc  bbb  bbb  aaa  0.281837  0.000000  0.475534  Bbb  bbbccc  \n",
       "7   bbb  aaa  bbb  ccc  ccc  0.047393  0.755705  0.755705  Ccc  cccccc  \n",
       "11  ccc  ccc  ccc  aaa  aaa -0.685805  0.540482  0.540482  Ccc  cccaaa  \n",
       "\n",
       "[5 rows x 45 columns]"
      ]
     },
     "execution_count": 9,
     "metadata": {},
     "output_type": "execute_result"
    }
   ],
   "source": [
    "with tempfile.TemporaryDirectory() as tempdir:\n",
    "    df.to_parquet(f\"{tempdir}/temp.parquet\")\n",
    "    df = pd.read_parquet(f\"{tempdir}/temp.parquet\")\n",
    "df.head()"
   ]
  },
  {
   "cell_type": "markdown",
   "id": "c4fb5bb2",
   "metadata": {},
   "source": [
    "# ROOT\n",
    "ROOT was originally designed for machines with limited cores, enabling processing of files larger than available RAM. Its architecture is heavily oriented towards C++. While it does offer Python bindings, these are essentially C++ wrappers."
   ]
  },
  {
   "cell_type": "code",
   "execution_count": 10,
   "id": "7bd7ad7e",
   "metadata": {},
   "outputs": [],
   "source": [
    "from ROOT import TTree, TFile"
   ]
  },
  {
   "cell_type": "markdown",
   "id": "5ca7732d",
   "metadata": {},
   "source": [
    "### Create TTree"
   ]
  },
  {
   "cell_type": "code",
   "execution_count": 11,
   "id": "d15294ba",
   "metadata": {},
   "outputs": [],
   "source": [
    "# ROOT will interpret data based on the selecten data type. Supported types:\n",
    "\n",
    "# C : a character string terminated by the 0 character\n",
    "# B : an 8 bit signed integer (Char_t); Treated as a character when in an array.\n",
    "# b : an 8 bit unsigned integer (UChar_t)\n",
    "# S : a 16 bit signed integer (Short_t)\n",
    "# s : a 16 bit unsigned integer (UShort_t)\n",
    "# I : a 32 bit signed integer (Int_t)\n",
    "# i : a 32 bit unsigned integer (UInt_t)\n",
    "# F : a 32 bit floating point (Float_t)\n",
    "# f : a 24 bit floating point with truncated mantissa (Float16_t)\n",
    "# D : a 64 bit floating point (Double_t)\n",
    "# d : a 24 bit truncated floating point (Double32_t)\n",
    "# L : a 64 bit signed integer (Long64_t)\n",
    "# l : a 64 bit unsigned integer (ULong64_t)\n",
    "# G : a long signed integer, stored as 64 bit (Long_t)\n",
    "# g : a long unsigned integer, stored as 64 bit (ULong_t)\n",
    "# O : [the letter o, not a zero] a boolean (bool)"
   ]
  },
  {
   "cell_type": "code",
   "execution_count": 12,
   "id": "6e3c503a",
   "metadata": {},
   "outputs": [
    {
     "name": "stdout",
     "output_type": "stream",
     "text": [
      "10000\n"
     ]
    }
   ],
   "source": [
    "file = TFile.Open(\"DataTree.root\", \"RECREATE\")\n",
    "tree = TTree(\"DataTree\", \"DataTree\")\n",
    "\n",
    "# Link the tree with python objects\n",
    "data_dict = {}\n",
    "for col_name in column_names_b:\n",
    "    data_dict[col_name] = np.array([False],dtype=np.bool)\n",
    "    tree.Branch(col_name, data_dict[col_name], f'{col_name}/O') \n",
    "\n",
    "for col_name in column_names_f:\n",
    "    data_dict[col_name] = np.array([0.], dtype=np.float32)\n",
    "    tree.Branch(col_name, data_dict[col_name], f'{col_name}/F') \n",
    "\n",
    "for col_name in column_names_d:\n",
    "    data_dict[col_name] = np.array([0.], dtype=np.float64)\n",
    "    tree.Branch(col_name, data_dict[col_name], f'{col_name}/D') \n",
    "\n",
    "# broken. strings are a real pain in ROOT\n",
    "# for col_name in column_names_s:\n",
    "    # data_dict[col_name] = np.array([\"aaa\"], dtype=str)\n",
    "    # t.Branch(col_name, data_dict[col_name], f'{col_name}[3]/B') \n",
    "\n",
    "# Fill the tree\n",
    "for i in range(len(data_f)):\n",
    "    for j, col_name in enumerate(column_names_b):\n",
    "        data_dict[col_name] = np.array([data_b[i,j]],dtype=np.bool)\n",
    "    for j, col_name in enumerate(column_names_f):\n",
    "        data_dict[col_name] = np.array([data_f[i,j]], dtype=np.float32)\n",
    "    for j, col_name in enumerate(column_names_d):\n",
    "        data_dict[col_name] = np.array([data_d[i,j]], dtype=np.float64)\n",
    "    # for j, col_name in enumerate(column_names_s):\n",
    "    #     data_dict[col_name] = np.array([data_s[i,j]], dtype=str)\n",
    "    tree.Fill()\n",
    "\n",
    "print(tree.GetEntries())\n",
    "tree.Write()\n",
    "file.Close()"
   ]
  },
  {
   "cell_type": "code",
   "execution_count": 13,
   "id": "ecb5e714",
   "metadata": {},
   "outputs": [
    {
     "name": "stdout",
     "output_type": "stream",
     "text": [
      "True\n",
      "0.9988673329353333\n",
      "0.5210780568112082\n"
     ]
    }
   ],
   "source": [
    "file2 = TFile.Open(\"DataTree.root\");\n",
    "tree2 = file2.Get(\"DataTree\")\n",
    "for i,x in enumerate(tree2):\n",
    "    print(x.B0)\n",
    "    print(x.F0)\n",
    "    print(x.D0)\n",
    "    # print(x.S0) # broken\n",
    "    break\n",
    "file2.Close()"
   ]
  },
  {
   "cell_type": "markdown",
   "id": "1e798fb6",
   "metadata": {},
   "source": [
    "### Fliter data"
   ]
  },
  {
   "cell_type": "code",
   "execution_count": 14,
   "id": "2c1b874c",
   "metadata": {},
   "outputs": [
    {
     "name": "stdout",
     "output_type": "stream",
     "text": [
      "Before selection. Number of rows =  10000\n",
      "After selection. Number of rows =  5701\n"
     ]
    }
   ],
   "source": [
    "file3 = TFile.Open(\"DataTree.root\",\"UPDATE\");\n",
    "tree3 = file3.Get(\"DataTree\")\n",
    "tree3_clone = tree3.CloneTree(0)\n",
    "print(\"Before selection. Number of rows = \", tree3.GetEntries())\n",
    "for i,event in enumerate(tree3):\n",
    "    if not (event.B0 or event.B1): # broken\n",
    "        continue\n",
    "    if not ((event.F0 > 0.1) and (event.F0 < 0.9)):\n",
    "        continue\n",
    "    if not (abs(event.D0 - event.D1) >= 0.02):\n",
    "        continue\n",
    "    # \n",
    "    # no str selection. \n",
    "    #  \n",
    "    tree3_clone.Fill()\n",
    "print(\"After selection. Number of rows = \", tree3_clone.GetEntries())\n",
    "tree3_clone.Write()\n",
    "file3.Close()"
   ]
  },
  {
   "cell_type": "markdown",
   "id": "7053a242",
   "metadata": {},
   "source": [
    "### Add new variables"
   ]
  },
  {
   "cell_type": "code",
   "execution_count": 15,
   "id": "6cf5b0ac",
   "metadata": {},
   "outputs": [],
   "source": [
    "file4 = TFile.Open(\"DataTree.root\",\"UPDATE\");\n",
    "tree4 = file4.Get(\"DataTree\")\n",
    "tree4_clone = tree4.CloneTree(0)\n",
    "\n",
    "d11 = np.array([0.],dtype=np.float64)\n",
    "d12 = np.array([0.],dtype=np.float64)\n",
    "d13 = np.array([0.],dtype=np.float64)\n",
    "\n",
    "tree4_clone.Branch(\"D11\", d11, f'D11/D') \n",
    "tree4_clone.Branch(\"D12\", d12, f'D12/D') \n",
    "tree4_clone.Branch(\"D13\", d13, f'D13/D') \n",
    "\n",
    "for i,event in enumerate(tree4):\n",
    "    d11_val = event.D2 - event.D3\n",
    "\n",
    "    d12_val = 0.\n",
    "    if event.B0:\n",
    "        d12_val = event.D4\n",
    "\n",
    "    if event.B0:\n",
    "        d13_val = event.D4\n",
    "    else:\n",
    "        d13_val = event.D5\n",
    "\n",
    "    d11 = np.array([d11_val],dtype=np.float64)\n",
    "    d12 = np.array([d12_val],dtype=np.float64)\n",
    "    d13 = np.array([d13_val],dtype=np.float64)\n",
    "\n",
    "    tree4_clone.Fill()\n",
    "\n",
    "tree4_clone.Write()\n",
    "file4.Close()"
   ]
  },
  {
   "cell_type": "markdown",
   "id": "2b76a08f",
   "metadata": {},
   "source": [
    "### Calculate stats"
   ]
  },
  {
   "cell_type": "code",
   "execution_count": 16,
   "id": "a589308d",
   "metadata": {},
   "outputs": [
    {
     "name": "stdout",
     "output_type": "stream",
     "text": [
      "F1 mean:  0.5040905077532873\n",
      "F1 max:  0.9999719858169556\n",
      "F1 min:  0.0002473511849530041\n",
      "Count B0 == True:  3770\n"
     ]
    }
   ],
   "source": [
    "file5 = TFile.Open(\"DataTree.root\");\n",
    "tree5 = file5.Get(\"DataTree\")\n",
    "\n",
    "f1_sum: float = 0.\n",
    "f1_max: float = 0.\n",
    "f1_min: float = 999.\n",
    "b0_true_count: int = 0\n",
    "\n",
    "for i,x in enumerate(tree5):\n",
    "    if x.B0:\n",
    "        b0_true_count += 1\n",
    "\n",
    "    f1_sum += x.F1   \n",
    "    if x.F1 > f1_max:\n",
    "        f1_max = x.F1\n",
    "    if x.F1 < f1_min:\n",
    "        f1_min = x.F1\n",
    "\n",
    "print(\"F1 mean: \", f1_sum/tree5.GetEntries())\n",
    "print(\"F1 max: \", f1_max)\n",
    "print(\"F1 min: \", f1_min)\n",
    "print(\"Count B0 == True: \",b0_true_count)\n",
    "file5.Close()"
   ]
  },
  {
   "cell_type": "markdown",
   "id": "a47e5714",
   "metadata": {},
   "source": [
    "# ROOT Data Frame\n",
    "RDataFrame represents a modern update to the ROOT framework, drawing inspiration from the Pandas interface. It offers capabilities for importing and exporting data to NumPy. This tool is good at handling straightforward tasks such as filtering datasets or calculating new variables."
   ]
  },
  {
   "cell_type": "markdown",
   "id": "1ebbdfa1",
   "metadata": {},
   "source": [
    "### Create RDataTree"
   ]
  },
  {
   "cell_type": "code",
   "execution_count": 17,
   "id": "a3deb55c",
   "metadata": {},
   "outputs": [
    {
     "data": {
      "text/plain": [
       "Dataframe from datasource RVecDS\n",
       "\n",
       "Property                Value\n",
       "--------                -----\n",
       "Columns in total           30\n",
       "Columns from defines        0\n",
       "Event loops run             0\n",
       "Processing slots            1\n",
       "\n",
       "Column  Type    Origin\n",
       "------  ----    ------\n",
       "B0      int     Dataset\n",
       "B1      int     Dataset\n",
       "B2      int     Dataset\n",
       "B3      int     Dataset\n",
       "B4      int     Dataset\n",
       "B5      int     Dataset\n",
       "B6      int     Dataset\n",
       "B7      int     Dataset\n",
       "B8      int     Dataset\n",
       "B9      int     Dataset\n",
       "D0      double  Dataset\n",
       "D1      double  Dataset\n",
       "D2      double  Dataset\n",
       "D3      double  Dataset\n",
       "D4      double  Dataset\n",
       "D5      double  Dataset\n",
       "D6      double  Dataset\n",
       "D7      double  Dataset\n",
       "D8      double  Dataset\n",
       "D9      double  Dataset\n",
       "F0      float   Dataset\n",
       "F1      float   Dataset\n",
       "F2      float   Dataset\n",
       "F3      float   Dataset\n",
       "F4      float   Dataset\n",
       "F5      float   Dataset\n",
       "F6      float   Dataset\n",
       "F7      float   Dataset\n",
       "F8      float   Dataset\n",
       "F9      float   Dataset"
      ]
     },
     "execution_count": 17,
     "metadata": {},
     "output_type": "execute_result"
    }
   ],
   "source": [
    "# bool data type is not suppported. Casting to int\n",
    "numpy_dict = {\n",
    "    column_names_b[i]: data_b[:,i].astype(np.int32) for i in range(len(column_names_b))\n",
    "}\n",
    "numpy_dict.update({\n",
    "    column_names_f[i]: data_f[:,i] for i in range(len(column_names_f))\n",
    "})\n",
    "numpy_dict.update({\n",
    "    column_names_d[i]: data_d[:,i] for i in range(len(column_names_d))\n",
    "})\n",
    "# str data type is not suppported. Skipping\n",
    "rdf = ROOT.RDF.FromNumpy(numpy_dict)\n",
    "rdf.Describe()"
   ]
  },
  {
   "cell_type": "markdown",
   "id": "32893340",
   "metadata": {},
   "source": [
    "### Fliter data"
   ]
  },
  {
   "cell_type": "code",
   "execution_count": 18,
   "id": "ba29ea0b",
   "metadata": {},
   "outputs": [
    {
     "name": "stdout",
     "output_type": "stream",
     "text": [
      "Before selection. Number of rows =  10000\n",
      "After selection. Number of rows =  5766\n"
     ]
    }
   ],
   "source": [
    "print(\"Before selection. Number of rows = \", rdf.Count().GetValue())\n",
    "rdf = rdf.Filter(\"B0 + B1\")\n",
    "rdf = rdf.Filter(\"(F0 > 0.1) & (F0 < 0.9)\")\n",
    "rdf = rdf.Define(\"temp_var_1\", \"abs(D0 - D1)\")\\\n",
    "         .Filter(\"temp_var_1 >= 0.02\" )\n",
    "# Str not supported\n",
    "print(\"After selection. Number of rows = \", rdf.Count().GetValue())"
   ]
  },
  {
   "cell_type": "markdown",
   "id": "004921d2",
   "metadata": {},
   "source": [
    "### Add new columns"
   ]
  },
  {
   "cell_type": "code",
   "execution_count": 19,
   "id": "1fe13e74",
   "metadata": {},
   "outputs": [],
   "source": [
    "rdf = rdf.Define(\"D11\", \"D2 - D3\")\\\n",
    "    .Define(\"D12\", \"D4 * float(B0)\")\\\n",
    "    .Define(\"D13\", \"D4 * float(B0) + D5 * float(1 - B0)\")\n",
    "# Str not supported"
   ]
  },
  {
   "cell_type": "markdown",
   "id": "ed84b2f1",
   "metadata": {},
   "source": [
    "### Calculate stats"
   ]
  },
  {
   "cell_type": "code",
   "execution_count": 20,
   "id": "6a426371",
   "metadata": {},
   "outputs": [
    {
     "name": "stdout",
     "output_type": "stream",
     "text": [
      "F1 mean:  0.5037809315961159\n",
      "F1 max:  0.9999741315841675\n",
      "F1 min:  0.00013765624316874892\n",
      "Count B0 == True:  2904.8008515832043\n"
     ]
    }
   ],
   "source": [
    "print(\"F1 mean: \", rdf.Mean(\"F1\").GetValue())\n",
    "print(\"F1 max: \", rdf.Max(\"F1\").GetValue())\n",
    "print(\"F1 min: \", rdf.Min(\"F1\").GetValue())\n",
    "print(\"Count B0 == True: \",rdf.Sum(\"F1\").GetValue())"
   ]
  },
  {
   "cell_type": "markdown",
   "id": "e0fa6020",
   "metadata": {},
   "source": [
    "### Save / read"
   ]
  },
  {
   "cell_type": "code",
   "execution_count": 21,
   "id": "6f695f35",
   "metadata": {},
   "outputs": [
    {
     "name": "stdout",
     "output_type": "stream",
     "text": [
      "Dataframe from TChain DataTree in file /tmp/tmpiuo12bsi/RDataFrame.root\n",
      "\n",
      "Property                Value\n",
      "--------                -----\n",
      "Columns in total           33\n",
      "Columns from defines        0\n",
      "Event loops run             0\n",
      "Processing slots            1\n",
      "\n",
      "Column  Type            Origin\n",
      "------  ----            ------\n",
      "B0      Int_t           Dataset\n",
      "B1      Int_t           Dataset\n",
      "B2      Int_t           Dataset\n",
      "B3      Int_t           Dataset\n",
      "B4      Int_t           Dataset\n",
      "B5      Int_t           Dataset\n",
      "B6      Int_t           Dataset\n",
      "B7      Int_t           Dataset\n",
      "B8      Int_t           Dataset\n",
      "B9      Int_t           Dataset\n",
      "D0      Double_t        Dataset\n",
      "D1      Double_t        Dataset\n",
      "D11     Double_t        Dataset\n",
      "D12     Double_t        Dataset\n",
      "D13     Double_t        Dataset\n",
      "D2      Double_t        Dataset\n",
      "D3      Double_t        Dataset\n",
      "D4      Double_t        Dataset\n",
      "D5      Double_t        Dataset\n",
      "D6      Double_t        Dataset\n",
      "D7      Double_t        Dataset\n",
      "D8      Double_t        Dataset\n",
      "D9      Double_t        Dataset\n",
      "F0      Float_t         Dataset\n",
      "F1      Float_t         Dataset\n",
      "F2      Float_t         Dataset\n",
      "F3      Float_t         Dataset\n",
      "F4      Float_t         Dataset\n",
      "F5      Float_t         Dataset\n",
      "F6      Float_t         Dataset\n",
      "F7      Float_t         Dataset\n",
      "F8      Float_t         Dataset\n",
      "F9      Float_t         Dataset\n",
      "\n"
     ]
    }
   ],
   "source": [
    "with tempfile.TemporaryDirectory() as tempdir:\n",
    "    columns_to_save = [column for column in rdf.GetColumnNames() if column != \"temp_var_1\"]\n",
    "    rdf.Snapshot(\"DataTree\",f\"{tempdir}/RDataFrame.root\",columns_to_save)\n",
    "    rdf2 = ROOT.RDataFrame(\"DataTree\",f\"{tempdir}/RDataFrame.root\")\n",
    "    print(rdf2.Describe())\n"
   ]
  },
  {
   "cell_type": "markdown",
   "id": "c138da5e",
   "metadata": {},
   "source": [
    "# uproot + awkward\n",
    "\n",
    "Uproot serves as a ROOT alternative for those who need to work with ROOT files. Built on top of the Awkward array toolkit, it offers considerable flexibility. It supports columns containing arrays and advanced data types. Uproot can store ROOT histograms while adhering to a Python-centric design philosophy. It is a great compromise between the capabilities of ROOT and Pandas."
   ]
  },
  {
   "cell_type": "markdown",
   "id": "cf32e1ef",
   "metadata": {},
   "source": [
    "### Create Tree"
   ]
  },
  {
   "cell_type": "code",
   "execution_count": 22,
   "id": "65e3fffc",
   "metadata": {},
   "outputs": [
    {
     "name": "stdout",
     "output_type": "stream",
     "text": [
      "name                 | typename                 | interpretation                \n",
      "---------------------+--------------------------+-------------------------------\n",
      "B0                   | bool                     | AsDtype('bool')\n",
      "B1                   | bool                     | AsDtype('bool')\n",
      "B2                   | bool                     | AsDtype('bool')\n",
      "B3                   | bool                     | AsDtype('bool')\n",
      "B4                   | bool                     | AsDtype('bool')\n",
      "B5                   | bool                     | AsDtype('bool')\n",
      "B6                   | bool                     | AsDtype('bool')\n",
      "B7                   | bool                     | AsDtype('bool')\n",
      "B8                   | bool                     | AsDtype('bool')\n",
      "B9                   | bool                     | AsDtype('bool')\n",
      "F0                   | float                    | AsDtype('>f4')\n",
      "F1                   | float                    | AsDtype('>f4')\n",
      "F2                   | float                    | AsDtype('>f4')\n",
      "F3                   | float                    | AsDtype('>f4')\n",
      "F4                   | float                    | AsDtype('>f4')\n",
      "F5                   | float                    | AsDtype('>f4')\n",
      "F6                   | float                    | AsDtype('>f4')\n",
      "F7                   | float                    | AsDtype('>f4')\n",
      "F8                   | float                    | AsDtype('>f4')\n",
      "F9                   | float                    | AsDtype('>f4')\n",
      "D0                   | double                   | AsDtype('>f8')\n",
      "D1                   | double                   | AsDtype('>f8')\n",
      "D2                   | double                   | AsDtype('>f8')\n",
      "D3                   | double                   | AsDtype('>f8')\n",
      "D4                   | double                   | AsDtype('>f8')\n",
      "D5                   | double                   | AsDtype('>f8')\n",
      "D6                   | double                   | AsDtype('>f8')\n",
      "D7                   | double                   | AsDtype('>f8')\n",
      "D8                   | double                   | AsDtype('>f8')\n",
      "D9                   | double                   | AsDtype('>f8')\n",
      "S0                   | char*                    | AsStrings()\n",
      "S1                   | char*                    | AsStrings()\n",
      "S2                   | char*                    | AsStrings()\n",
      "S3                   | char*                    | AsStrings()\n",
      "S4                   | char*                    | AsStrings()\n",
      "S5                   | char*                    | AsStrings()\n",
      "S6                   | char*                    | AsStrings()\n",
      "S7                   | char*                    | AsStrings()\n",
      "S8                   | char*                    | AsStrings()\n",
      "S9                   | char*                    | AsStrings()\n"
     ]
    }
   ],
   "source": [
    "numpy_dict = {\n",
    "    column_names_b[i]: data_b[:,i] for i in range(len(column_names_b))\n",
    "}\n",
    "numpy_dict.update({\n",
    "    column_names_f[i]: data_f[:,i] for i in range(len(column_names_f))\n",
    "})\n",
    "numpy_dict.update({\n",
    "    column_names_d[i]: data_d[:,i] for i in range(len(column_names_d))\n",
    "})\n",
    "numpy_dict.update({\n",
    "    column_names_s[i]: data_s[:,i] for i in range(len(column_names_s))\n",
    "})\n",
    "\n",
    "with up.recreate(\"UprootTree.root\") as file:\n",
    "    file[\"tree\"] = numpy_dict\n",
    "    file[\"tree\"].show()"
   ]
  },
  {
   "cell_type": "markdown",
   "id": "02d7979f",
   "metadata": {},
   "source": [
    "### Fliter data"
   ]
  },
  {
   "cell_type": "code",
   "execution_count": 23,
   "id": "445a176b",
   "metadata": {},
   "outputs": [
    {
     "name": "stdout",
     "output_type": "stream",
     "text": [
      "Before selection. Number of rows =  10000\n",
      "After selection. Number of rows =  1938\n",
      "       B0        F0        D0   S0\n",
      "3    True  0.492902  0.757330  aaa\n",
      "5    True  0.357263  0.192829  aaa\n",
      "6   False  0.143712  0.297107  aaa\n",
      "7    True  0.174429  0.665158  aaa\n",
      "11   True  0.722801  0.150573  aaa\n"
     ]
    },
    {
     "name": "stderr",
     "output_type": "stream",
     "text": [
      "/keg/work/jakub/miniconda3/envs/cenv2/lib/python3.10/site-packages/awkward_pandas/array.py:120: DeprecationWarning: __array__ implementation doesn't accept a copy keyword, so passing copy=False failed. __array__ must implement 'dtype' and 'copy' keyword arguments. To learn more, see the migration guide https://numpy.org/devdocs/numpy_2_0_migration_guide.html#adapting-to-changes-in-the-copy-keyword\n",
      "  return np.array(ak.is_none(self._data))\n"
     ]
    }
   ],
   "source": [
    "with up.open(\"UprootTree.root\") as file:\n",
    "    tree = file[\"tree\"]\n",
    "    arr = tree.arrays(library=\"pd\")\n",
    "\n",
    "print(\"Before selection. Number of rows = \", tree.num_entries)\n",
    "arr = arr[arr[\"B0\"] + arr[\"B1\"]]\n",
    "arr = arr[(arr[\"F0\"] > 0.1) & (arr[\"F0\"] < 0.9)]\n",
    "arr = arr[np.abs(arr[\"D0\"] - arr[\"D1\"]) >= 0.02]\n",
    "arr = arr[arr[\"S0\"] == \"aaa\"]\n",
    "print(\"After selection. Number of rows = \", len(arr))\n",
    "print(arr[:5][[\"B0\", \"F0\", \"D0\", \"S0\"]])"
   ]
  },
  {
   "cell_type": "markdown",
   "id": "e991762a",
   "metadata": {},
   "source": [
    "### Add new columns"
   ]
  },
  {
   "cell_type": "code",
   "execution_count": 24,
   "id": "18e31989",
   "metadata": {},
   "outputs": [
    {
     "data": {
      "text/html": [
       "<div>\n",
       "<style scoped>\n",
       "    .dataframe tbody tr th:only-of-type {\n",
       "        vertical-align: middle;\n",
       "    }\n",
       "\n",
       "    .dataframe tbody tr th {\n",
       "        vertical-align: top;\n",
       "    }\n",
       "\n",
       "    .dataframe thead th {\n",
       "        text-align: right;\n",
       "    }\n",
       "</style>\n",
       "<table border=\"1\" class=\"dataframe\">\n",
       "  <thead>\n",
       "    <tr style=\"text-align: right;\">\n",
       "      <th></th>\n",
       "      <th>D11</th>\n",
       "      <th>D12</th>\n",
       "      <th>D13</th>\n",
       "      <th>S11</th>\n",
       "      <th>S12</th>\n",
       "    </tr>\n",
       "  </thead>\n",
       "  <tbody>\n",
       "    <tr>\n",
       "      <th>3</th>\n",
       "      <td>0.103905</td>\n",
       "      <td>0.022800</td>\n",
       "      <td>0.022800</td>\n",
       "      <td>Bbb</td>\n",
       "      <td>bbbaaa</td>\n",
       "    </tr>\n",
       "    <tr>\n",
       "      <th>5</th>\n",
       "      <td>0.617874</td>\n",
       "      <td>0.475685</td>\n",
       "      <td>0.475685</td>\n",
       "      <td>Ccc</td>\n",
       "      <td>cccaaa</td>\n",
       "    </tr>\n",
       "    <tr>\n",
       "      <th>6</th>\n",
       "      <td>0.281837</td>\n",
       "      <td>0.000000</td>\n",
       "      <td>0.475534</td>\n",
       "      <td>Bbb</td>\n",
       "      <td>bbbccc</td>\n",
       "    </tr>\n",
       "    <tr>\n",
       "      <th>7</th>\n",
       "      <td>0.047393</td>\n",
       "      <td>0.755705</td>\n",
       "      <td>0.755705</td>\n",
       "      <td>Ccc</td>\n",
       "      <td>cccccc</td>\n",
       "    </tr>\n",
       "    <tr>\n",
       "      <th>11</th>\n",
       "      <td>-0.685805</td>\n",
       "      <td>0.540482</td>\n",
       "      <td>0.540482</td>\n",
       "      <td>Ccc</td>\n",
       "      <td>cccaaa</td>\n",
       "    </tr>\n",
       "  </tbody>\n",
       "</table>\n",
       "</div>"
      ],
      "text/plain": [
       "         D11       D12       D13  S11     S12\n",
       "3   0.103905  0.022800  0.022800  Bbb  bbbaaa\n",
       "5   0.617874  0.475685  0.475685  Ccc  cccaaa\n",
       "6   0.281837  0.000000  0.475534  Bbb  bbbccc\n",
       "7   0.047393  0.755705  0.755705  Ccc  cccccc\n",
       "11 -0.685805  0.540482  0.540482  Ccc  cccaaa"
      ]
     },
     "execution_count": 24,
     "metadata": {},
     "output_type": "execute_result"
    }
   ],
   "source": [
    "arr[\"D11\"] = arr[\"D2\"] - arr[\"D3\"]\n",
    "arr[\"D12\"] = arr[\"D4\"] * arr[\"B0\"] # if B0, make D12 = D4, else D12 = 0\n",
    "arr[\"D13\"] = arr[\"D4\"] * arr[\"B0\"] + arr[\"D5\"] * (~arr[\"B0\"]) # if B0, make D12 = D4, else D12 = D5 \n",
    "arr[\"S11\"] = arr[\"S1\"].apply(lambda x: x.capitalize())\n",
    "arr[\"S12\"] = arr[\"S1\"].to_numpy() + arr[\"S2\"].to_numpy()\n",
    "\n",
    "arr[:5][[\"D11\", \"D12\", \"D13\", \"S11\", \"S12\"]]"
   ]
  },
  {
   "cell_type": "markdown",
   "id": "34e1cb69",
   "metadata": {},
   "source": [
    "### Calculate stats"
   ]
  },
  {
   "cell_type": "code",
   "execution_count": 25,
   "id": "d71956e6",
   "metadata": {},
   "outputs": [
    {
     "name": "stdout",
     "output_type": "stream",
     "text": [
      "F1 mean:  0.5035985\n",
      "F1 max:  0.99945223\n",
      "F1 min:  0.00013765624\n",
      "Count B0 == True:  1272\n"
     ]
    }
   ],
   "source": [
    "print(\"F1 mean: \", arr[\"F1\"].mean())\n",
    "print(\"F1 max: \", arr[\"F1\"].max())\n",
    "print(\"F1 min: \", arr[\"F1\"].min())\n",
    "print(\"Count B0 == True: \",arr[\"B0\"].sum())"
   ]
  },
  {
   "cell_type": "markdown",
   "id": "f683212e",
   "metadata": {},
   "source": [
    "### Save / read "
   ]
  },
  {
   "cell_type": "code",
   "execution_count": 26,
   "id": "b3a92d6d",
   "metadata": {},
   "outputs": [
    {
     "name": "stdout",
     "output_type": "stream",
     "text": [
      "name                 | typename                 | interpretation                \n",
      "---------------------+--------------------------+-------------------------------\n",
      "index                | int64_t                  | AsDtype('>i8')\n",
      "B0                   | bool                     | AsDtype('bool')\n",
      "B1                   | bool                     | AsDtype('bool')\n",
      "B2                   | bool                     | AsDtype('bool')\n",
      "B3                   | bool                     | AsDtype('bool')\n",
      "B4                   | bool                     | AsDtype('bool')\n",
      "B5                   | bool                     | AsDtype('bool')\n",
      "B6                   | bool                     | AsDtype('bool')\n",
      "B7                   | bool                     | AsDtype('bool')\n",
      "B8                   | bool                     | AsDtype('bool')\n",
      "B9                   | bool                     | AsDtype('bool')\n",
      "F0                   | float                    | AsDtype('>f4')\n",
      "F1                   | float                    | AsDtype('>f4')\n",
      "F2                   | float                    | AsDtype('>f4')\n",
      "F3                   | float                    | AsDtype('>f4')\n",
      "F4                   | float                    | AsDtype('>f4')\n",
      "F5                   | float                    | AsDtype('>f4')\n",
      "F6                   | float                    | AsDtype('>f4')\n",
      "F7                   | float                    | AsDtype('>f4')\n",
      "F8                   | float                    | AsDtype('>f4')\n",
      "F9                   | float                    | AsDtype('>f4')\n",
      "D0                   | double                   | AsDtype('>f8')\n",
      "D1                   | double                   | AsDtype('>f8')\n",
      "D2                   | double                   | AsDtype('>f8')\n",
      "D3                   | double                   | AsDtype('>f8')\n",
      "D4                   | double                   | AsDtype('>f8')\n",
      "D5                   | double                   | AsDtype('>f8')\n",
      "D6                   | double                   | AsDtype('>f8')\n",
      "D7                   | double                   | AsDtype('>f8')\n",
      "D8                   | double                   | AsDtype('>f8')\n",
      "D9                   | double                   | AsDtype('>f8')\n",
      "S0                   | char*                    | AsStrings()\n",
      "S1                   | char*                    | AsStrings()\n",
      "S2                   | char*                    | AsStrings()\n",
      "S3                   | char*                    | AsStrings()\n",
      "S4                   | char*                    | AsStrings()\n",
      "S5                   | char*                    | AsStrings()\n",
      "S6                   | char*                    | AsStrings()\n",
      "S7                   | char*                    | AsStrings()\n",
      "S8                   | char*                    | AsStrings()\n",
      "S9                   | char*                    | AsStrings()\n",
      "D11                  | double                   | AsDtype('>f8')\n",
      "D12                  | double                   | AsDtype('>f8')\n",
      "D13                  | double                   | AsDtype('>f8')\n",
      "S11                  | char*                    | AsStrings()\n",
      "S12                  | char*                    | AsStrings()\n",
      "None\n"
     ]
    }
   ],
   "source": [
    "with tempfile.TemporaryDirectory() as tempdir:\n",
    "    with up.recreate(f\"{tempdir}/TempUprootTree.root\") as file:\n",
    "        file[\"tree\"] = arr\n",
    "    with up.open(f\"{tempdir}/TempUprootTree.root\") as file:\n",
    "        print(file[\"tree\"].show())"
   ]
  }
 ],
 "metadata": {
  "kernelspec": {
   "display_name": "cenv2_kernel",
   "language": "python",
   "name": "cenv2_kernel"
  },
  "language_info": {
   "codemirror_mode": {
    "name": "ipython",
    "version": 3
   },
   "file_extension": ".py",
   "mimetype": "text/x-python",
   "name": "python",
   "nbconvert_exporter": "python",
   "pygments_lexer": "ipython3",
   "version": "3.10.18"
  }
 },
 "nbformat": 4,
 "nbformat_minor": 5
}
