{
 "cells": [
  {
   "cell_type": "code",
   "execution_count": null,
   "id": "544073e7",
   "metadata": {},
   "outputs": [],
   "source": [
    "import pandas as pd\n",
    "import numpy as np\n",
    "import tempfile"
   ]
  },
  {
   "cell_type": "code",
   "execution_count": 2,
   "id": "d5b648ef",
   "metadata": {},
   "outputs": [],
   "source": [
    "import ROOT\n",
    "# if the ROOT import fails, you can still run other sections that do not use it"
   ]
  },
  {
   "cell_type": "code",
   "execution_count": 31,
   "id": "cd45c2a3",
   "metadata": {},
   "outputs": [],
   "source": [
    "N = 100000"
   ]
  },
  {
   "cell_type": "markdown",
   "id": "dbd63c78",
   "metadata": {},
   "source": [
    "### Pandas"
   ]
  },
  {
   "cell_type": "code",
   "execution_count": null,
   "id": "a9e7e217",
   "metadata": {},
   "outputs": [
    {
     "name": "stdout",
     "output_type": "stream",
     "text": [
      "468 μs ± 65.9 μs per loop (mean ± std. dev. of 7 runs, 1,000 loops each)\n",
      "108 ms ± 665 μs per loop (mean ± std. dev. of 7 runs, 10 loops each)\n",
      "2.75 s ± 244 ms per loop (mean ± std. dev. of 7 runs, 1 loop each)\n",
      "2.64 s ± 402 ms per loop (mean ± std. dev. of 7 runs, 1 loop each)\n"
     ]
    }
   ],
   "source": [
    "df = pd.DataFrame({\n",
    "    \"col1\": np.random.random(N),\n",
    "    \"col2\": np.random.random(N),\n",
    "    })\n",
    "\n",
    "# different methods of accessing data in Pandas:\n",
    "# vectorization\n",
    "%timeit np.sqrt(df[\"col1\"]**2 + df[\"col2\"]**2)\n",
    "\n",
    "# itertuples \n",
    "def h():\n",
    "    for tup in df.itertuples():\n",
    "        np.sqrt(tup[0]**2 + tup[1]**2)\n",
    "%timeit h()\n",
    "\n",
    "# access by index\n",
    "def f():\n",
    "    for i in range(len(df)):\n",
    "        np.sqrt(df.iloc[i][\"col1\"]**2 + df.iloc[i][\"col2\"]**2)\n",
    "%timeit f()\n",
    "\n",
    "# iterrows\n",
    "def g():\n",
    "    for i,row in df.iterrows():\n",
    "        np.sqrt(row[\"col1\"]**2 + row[\"col2\"]**2)\n",
    "%timeit g()"
   ]
  },
  {
   "cell_type": "markdown",
   "id": "7d647b81",
   "metadata": {},
   "source": [
    "### ROOT"
   ]
  },
  {
   "cell_type": "code",
   "execution_count": 33,
   "id": "bbe33322",
   "metadata": {},
   "outputs": [
    {
     "name": "stdout",
     "output_type": "stream",
     "text": [
      "458 ms ± 163 ms per loop (mean ± std. dev. of 7 runs, 1 loop each)\n"
     ]
    }
   ],
   "source": [
    "# ROOT\n",
    "from ROOT import TTree, TFile\n",
    "\n",
    "with tempfile.TemporaryDirectory() as tempdir:\n",
    "\n",
    "    file = TFile.Open(f\"{tempdir}/DataTree.root\", \"RECREATE\")\n",
    "    tree = TTree(f\"DataTree\", \"DataTree\")\n",
    "    col1_val = np.array([0.],dtype=np.float64)\n",
    "    col2_val = np.array([0.],dtype=np.float64)\n",
    "    tree.Branch(\"col1\", col1_val, f'col1/D')\n",
    "    tree.Branch(\"col2\", col2_val, f'col2/D') \n",
    "\n",
    "    # Fill the tree\n",
    "    for i in range(N):\n",
    "        col1_val = np.array([np.random.random()],dtype=np.float64)\n",
    "        col2_val = np.array([np.random.random()],dtype=np.float64)\n",
    "        tree.Fill()\n",
    "\n",
    "    tree.Write()\n",
    "    file.Close()\n",
    "\n",
    "    file2 = TFile.Open(f\"{tempdir}/DataTree.root\")\n",
    "    tree2 = file2.Get(\"DataTree\")\n",
    "    \n",
    "    def h():\n",
    "        for x in tree2:\n",
    "            np.sqrt(x.col1**2 + x.col2**2)\n",
    "\n",
    "    %timeit h()\n",
    "    file2.Close()"
   ]
  }
 ],
 "metadata": {
  "kernelspec": {
   "display_name": "cenv2",
   "language": "python",
   "name": "python3"
  },
  "language_info": {
   "codemirror_mode": {
    "name": "ipython",
    "version": 3
   },
   "file_extension": ".py",
   "mimetype": "text/x-python",
   "name": "python",
   "nbconvert_exporter": "python",
   "pygments_lexer": "ipython3",
   "version": "3.10.18"
  }
 },
 "nbformat": 4,
 "nbformat_minor": 5
}
